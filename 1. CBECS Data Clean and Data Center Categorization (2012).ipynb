{
 "cells": [
  {
   "cell_type": "code",
   "execution_count": 1,
   "metadata": {
    "collapsed": true
   },
   "outputs": [],
   "source": [
    "import pandas as pd\n",
    "import numpy as np\n",
    "import matplotlib.pyplot as plt\n",
    "import seaborn as sns\n",
    "%matplotlib inline\n"
   ]
  },
  {
   "cell_type": "markdown",
   "metadata": {},
   "source": [
    "Read in data and also match PBA code to it's actual name"
   ]
  },
  {
   "cell_type": "code",
   "execution_count": 2,
   "metadata": {},
   "outputs": [
    {
     "name": "stdout",
     "output_type": "stream",
     "text": [
      "number of sample that reported with server: 6481\n",
      "number of sample that reported with server (not null): 3549\n"
     ]
    }
   ],
   "source": [
    "# ----------------------------------------------------------------------------------- #\n",
    "## 2012\n",
    "df = pd.read_csv('Datasets/CBECS2012/2012_public_use_data_aug2016.csv',header=0,index_col=0)\n",
    "# ----------------------------------------------------------------------------------- #\n",
    "\n",
    "print(\"number of sample that reported with server: %d\" % df['SERVERN'].count())\n",
    "print(\"number of sample that reported with server (not null): %d\" % len(df[(df['SERVERN'] != 0) & (df['SERVERN'].notnull())]))\n",
    "\n",
    "pba_id = pd.read_csv('pba_id.csv',header=0,index_col=0)\n",
    "pbaplus_id = pd.read_csv('pbaplus_id.csv', header = 0, index_col = 0)\n",
    "df = df.join(pba_id,on='PBA')\n",
    "df = df.join(pbaplus_id,on = 'PBAPLUS')"
   ]
  },
  {
   "cell_type": "markdown",
   "metadata": {},
   "source": [
    "Categorize each building based on the number of servers/racks"
   ]
  },
  {
   "cell_type": "code",
   "execution_count": 3,
   "metadata": {
    "collapsed": true
   },
   "outputs": [],
   "source": [
    "# ----------------------------------------------------------------------------------- #\n",
    "# Inclusive:\n",
    "order = ['small','midsize','large']\n",
    "\n",
    "# Server number by DC size # -- assumptions for 2012 data\n",
    "defs = [(1,25,'small'),\n",
    "        (26,499,'midsize'),\n",
    "        (500,1e5,'large')]\n",
    "# ----------------------------------------------------------------------------------- #"
   ]
  },
  {
   "cell_type": "markdown",
   "metadata": {},
   "source": [
    "Do categorization"
   ]
  },
  {
   "cell_type": "code",
   "execution_count": 4,
   "metadata": {
    "collapsed": false
   },
   "outputs": [
    {
     "data": {
      "text/plain": [
       "True"
      ]
     },
     "execution_count": 4,
     "metadata": {},
     "output_type": "execute_result"
    }
   ],
   "source": [
    "df['space type'] = np.nan\n",
    "for tup in defs:\n",
    "    m = (df['SERVERN'] <= tup[1]) & (df['SERVERN']>= tup[0])\n",
    "    df.loc[m,'space type'] = tup[2]\n",
    "\n",
    "\n",
    "# Check to make sure we didn't miss any buildings\n",
    "df['space type'].dropna().count() == (len(df[(df['SERVERN'] != 0) & (df['SERVERN'].notnull())]))"
   ]
  },
  {
   "cell_type": "markdown",
   "metadata": {},
   "source": [
    "Multiply building weight by the number of racks/servers in each building. "
   ]
  },
  {
   "cell_type": "code",
   "execution_count": 5,
   "metadata": {},
   "outputs": [],
   "source": [
    "df['nweight_s'] = df['SERVERN']*df['FINALWT']"
   ]
  },
  {
   "cell_type": "markdown",
   "metadata": {},
   "source": [
    "Code DATACNTR column as either true or false. Note that specifically refers to whether something is a data center of farm. So data rooms and closets are coded as false."
   ]
  },
  {
   "cell_type": "code",
   "execution_count": 6,
   "metadata": {
    "collapsed": false
   },
   "outputs": [],
   "source": [
    "m_dc = df['DATACNTR'] == 1\n",
    "\n",
    "df.loc[m_dc,'DATACNTR'] = True\n",
    "df.loc[~m_dc,'DATACNTR'] = False"
   ]
  },
  {
   "cell_type": "markdown",
   "metadata": {},
   "source": [
    "Map coded values for server square footage to their actual ranges"
   ]
  },
  {
   "cell_type": "code",
   "execution_count": 7,
   "metadata": {
    "collapsed": true
   },
   "outputs": [],
   "source": [
    "data_map = {1:'<= 500 sq. ft.',\n",
    "            2:'501 to 1500 sq. ft.',\n",
    "            3:'1501 to 3000 sq. ft.',\n",
    "            4:'3001 to 10,000 sq. ft.',\n",
    "            5:'> 10,000 sq. ft.',\n",
    "            0:np.nan}\n",
    "df.loc[df['DCNTRSFC'].isnull(),'DCNTRSFC'] = 0\n",
    "df['data center sq. ft.'] = df.DCNTRSFC.apply(lambda x:data_map[x])"
   ]
  },
  {
   "cell_type": "markdown",
   "metadata": {},
   "source": [
    "Now, let's replace 9995 values in SERVERN with something more representative based on the expected total number of shipments."
   ]
  },
  {
   "cell_type": "code",
   "execution_count": 8,
   "metadata": {
    "collapsed": false
   },
   "outputs": [
    {
     "name": "stdout",
     "output_type": "stream",
     "text": [
      "4559.953872214017\n"
     ]
    }
   ],
   "source": [
    "# ----------------------------------------------------------------------------------- #\n",
    "tot_serv = 13581642.   #From 2012 value.\n",
    "# ----------------------------------------------------------------------------------- #\n",
    "\n",
    "m = df['SERVERN'] > defs[2][0] # filter out 'large'/ 'Service Provider'\n",
    "avg_num_he_s = (tot_serv - df.loc[~m,'nweight_s'].sum())/df.loc[m,'FINALWT'].sum()\n",
    "print(avg_num_he_s)\n",
    "df.loc[m,'SERVERN'] = avg_num_he_s\n",
    "df.loc[m,'nweight_s'] = avg_num_he_s*df.loc[m,'FINALWT']\n"
   ]
  },
  {
   "cell_type": "markdown",
   "metadata": {},
   "source": [
    "Double check to make sure that the total number of servers matches tot_serv"
   ]
  },
  {
   "cell_type": "code",
   "execution_count": 9,
   "metadata": {
    "collapsed": false
   },
   "outputs": [
    {
     "data": {
      "text/plain": [
       "True"
      ]
     },
     "execution_count": 9,
     "metadata": {},
     "output_type": "execute_result"
    }
   ],
   "source": [
    "(df['nweight_s'].sum() == tot_serv) or (abs(df['nweight_s'].sum() - tot_serv) <= 10**(-6))"
   ]
  },
  {
   "cell_type": "code",
   "execution_count": 10,
   "metadata": {},
   "outputs": [],
   "source": [
    "# ----------------------------------------------------------------------------------- #\n",
    "\n",
    "# df.to_csv('Datasets/cbecs_servers_cleaned_2012_dummy.csv')\n",
    "\n",
    "# ----------------------------------------------------------------------------------- #"
   ]
  },
  {
   "cell_type": "code",
   "execution_count": null,
   "metadata": {},
   "outputs": [],
   "source": []
  }
 ],
 "metadata": {
  "kernelspec": {
   "display_name": "base",
   "language": "python",
   "name": "python3"
  },
  "language_info": {
   "codemirror_mode": {
    "name": "ipython",
    "version": 3
   },
   "file_extension": ".py",
   "mimetype": "text/x-python",
   "name": "python",
   "nbconvert_exporter": "python",
   "pygments_lexer": "ipython3",
   "version": "3.7.4"
  }
 },
 "nbformat": 4,
 "nbformat_minor": 0
}
