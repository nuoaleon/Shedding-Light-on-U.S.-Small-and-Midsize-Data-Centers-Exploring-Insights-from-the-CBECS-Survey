{
 "cells": [
  {
   "cell_type": "markdown",
   "metadata": {},
   "source": [
    "## Purpose\n",
    "Take the occupation employment statistics and map them onto the zip code level using principal building activity (PCA) code from CBECS. The end result is the number of workers in a given zip code in a given commercial building type."
   ]
  },
  {
   "cell_type": "code",
   "execution_count": 1,
   "metadata": {
    "collapsed": true
   },
   "outputs": [],
   "source": [
    "import pandas as pd\n",
    "import sqlite3\n",
    "import numpy as np"
   ]
  },
  {
   "cell_type": "markdown",
   "metadata": {},
   "source": [
    "Read in employment data"
   ]
  },
  {
   "cell_type": "code",
   "execution_count": 2,
   "metadata": {
    "collapsed": true
   },
   "outputs": [],
   "source": [
    "# ------------------------------------------- #\n",
    "con = sqlite3.connect('Datasets/oes_may12_demo.db')\n",
    "# ------------------------------------------- #"
   ]
  },
  {
   "cell_type": "markdown",
   "metadata": {},
   "source": [
    "Get occupation data at the \"major\" occupation level. Here we are also going to divy up the total number employees amongst zip code. We will do it such that all zip codes within a given MSA will be given an even number of employees"
   ]
  },
  {
   "cell_type": "code",
   "execution_count": 3,
   "metadata": {
    "collapsed": false
   },
   "outputs": [],
   "source": [
    "df = pd.read_sql('select * from data where OCC_GROUP = \\'major\\'',con,index_col = 'index')\n",
    "df_zip_count = df.groupby(['MSA No.','OCC_CODE'])[['id']].count()\n",
    "df_zip_count.rename(columns = {'id':'nzip'},inplace=True)\n",
    "df = df.join(df_zip_count,on=['MSA No.','OCC_CODE'])\n",
    "df['EMP'] = df['TOT_EMP']/df['nzip']"
   ]
  },
  {
   "cell_type": "code",
   "execution_count": 4,
   "metadata": {},
   "outputs": [
    {
     "data": {
      "text/plain": [
       "(724570, 11)"
      ]
     },
     "execution_count": 4,
     "metadata": {},
     "output_type": "execute_result"
    }
   ],
   "source": [
    "df.shape"
   ]
  },
  {
   "cell_type": "markdown",
   "metadata": {},
   "source": [
    "Get occupation data at the \"total\" occupation level. Here we are also going to divy up the total number employees amongst zip code. We will do it such that all zip codes within a given MSA will be given an even number of employees"
   ]
  },
  {
   "cell_type": "code",
   "execution_count": 5,
   "metadata": {
    "collapsed": false
   },
   "outputs": [],
   "source": [
    "df_tot = pd.read_sql('select * from data where OCC_GROUP = \\'total\\'',con,index_col = 'index')\n",
    "df_tot_zip_count = df_tot.groupby(['MSA No.','OCC_CODE'])[['id']].count()\n",
    "df_tot_zip_count.rename(columns = {'id':'nzip'},inplace=True)\n",
    "df_tot = df_tot.join(df_tot_zip_count,on=['MSA No.','OCC_CODE'])\n",
    "df_tot['EMP'] = df_tot['TOT_EMP']/df_tot['nzip']"
   ]
  },
  {
   "cell_type": "markdown",
   "metadata": {},
   "source": [
    "Use this field for distributing employees amongst PBA types"
   ]
  },
  {
   "cell_type": "code",
   "execution_count": 6,
   "metadata": {
    "collapsed": true
   },
   "outputs": [],
   "source": [
    "field = 'EMP'"
   ]
  },
  {
   "cell_type": "markdown",
   "metadata": {},
   "source": [
    "Read in dataframe with my mappings of job classifcations onto PBA"
   ]
  },
  {
   "cell_type": "code",
   "execution_count": 7,
   "metadata": {
    "collapsed": false
   },
   "outputs": [
    {
     "name": "stderr",
     "output_type": "stream",
     "text": [
      "/Users/nuoaleon/opt/anaconda3/lib/python3.7/site-packages/openpyxl/worksheet/_reader.py:296: UserWarning: Unknown extension is not supported and will be removed\n",
      "  warn(msg)\n"
     ]
    }
   ],
   "source": [
    "job = pd.read_excel('Datasets/job_class.xlsx',index_col=0) # Job class can be mapped with certain building types"
   ]
  },
  {
   "cell_type": "markdown",
   "metadata": {},
   "source": [
    "Read in csv file with description of PBA types"
   ]
  },
  {
   "cell_type": "code",
   "execution_count": 8,
   "metadata": {
    "collapsed": true
   },
   "outputs": [],
   "source": [
    "pba_id = pd.read_csv('Datasets/pba_id.csv',index_col=0)"
   ]
  },
  {
   "cell_type": "markdown",
   "metadata": {},
   "source": [
    "Create an empty truth table with job types as rows and PBAs as columns. This will show our mapping of which jobs are found in which PBAs"
   ]
  },
  {
   "cell_type": "code",
   "execution_count": 9,
   "metadata": {
    "collapsed": false
   },
   "outputs": [],
   "source": [
    "tbl = pd.DataFrame(np.zeros((len(job),len(pba_id)),dtype=bool),index = job.index,columns = pba_id.index)"
   ]
  },
  {
   "cell_type": "markdown",
   "metadata": {},
   "source": [
    "Read in CBECS data"
   ]
  },
  {
   "cell_type": "code",
   "execution_count": 10,
   "metadata": {
    "collapsed": true
   },
   "outputs": [],
   "source": [
    "# ---------------------------------------------------------------------- #\n",
    "cb = pd.read_csv('Datasets/cbecs_servers_cleaned_2012_dummy.csv')\n",
    "#cb = pd.read_csv('Datasets/cbecs_servers_cleaned_2018_dummy.csv')\n",
    "\n",
    "\n",
    "cb = cb[['PUBID', 'FINALWT', 'NWKER', 'PBA', 'CENDIV']]\n",
    "# ---------------------------------------------------------------------- #"
   ]
  },
  {
   "cell_type": "markdown",
   "metadata": {},
   "source": [
    "Create a new column to get number of workers for a given building in CBECS"
   ]
  },
  {
   "cell_type": "code",
   "execution_count": 11,
   "metadata": {
    "collapsed": true
   },
   "outputs": [],
   "source": [
    "cb['FINALWT_NWKER'] = cb['FINALWT']*cb['NWKER']"
   ]
  },
  {
   "cell_type": "markdown",
   "metadata": {},
   "source": [
    "Do a pivot table to get the number of workers in a given PBA by census division"
   ]
  },
  {
   "cell_type": "code",
   "execution_count": 12,
   "metadata": {
    "collapsed": true
   },
   "outputs": [],
   "source": [
    "cb_piv = cb.pivot_table(index = 'CENDIV',columns='PBA',values = 'FINALWT_NWKER',aggfunc=np.sum)"
   ]
  },
  {
   "cell_type": "markdown",
   "metadata": {},
   "source": [
    "Replace NaNs w/ 0s"
   ]
  },
  {
   "cell_type": "code",
   "execution_count": 13,
   "metadata": {
    "collapsed": false
   },
   "outputs": [],
   "source": [
    "cb_piv = cb_piv.replace(np.nan,0.)"
   ]
  },
  {
   "cell_type": "markdown",
   "metadata": {},
   "source": [
    "There are some PBAs that are missing in cb_piv. For completeness add those PBAs back in and assign them values of 0."
   ]
  },
  {
   "cell_type": "code",
   "execution_count": 14,
   "metadata": {
    "collapsed": true
   },
   "outputs": [],
   "source": [
    "no_vals = list(set(tbl.columns).difference(set(cb_piv.columns)))\n",
    "for x in no_vals: cb_piv[x] = 0.\n"
   ]
  },
  {
   "cell_type": "code",
   "execution_count": 15,
   "metadata": {
    "collapsed": true
   },
   "outputs": [],
   "source": [
    "cb_piv = cb_piv.loc[:,tbl.columns]"
   ]
  },
  {
   "cell_type": "markdown",
   "metadata": {},
   "source": [
    "Load in table to map state name to census division"
   ]
  },
  {
   "cell_type": "code",
   "execution_count": 16,
   "metadata": {
    "collapsed": false
   },
   "outputs": [],
   "source": [
    "geo = pd.read_csv('Datasets/geo_mapping.csv')\n",
    "state_to_cdiv = geo.loc[:,['state abbrev','cdiv num']].set_index('state abbrev')"
   ]
  },
  {
   "cell_type": "markdown",
   "metadata": {},
   "source": [
    "Add census division to occ_data"
   ]
  },
  {
   "cell_type": "code",
   "execution_count": 17,
   "metadata": {
    "collapsed": false
   },
   "outputs": [],
   "source": [
    "occ_data_big = df.join(state_to_cdiv,on = 'STATE')\n",
    "occ_data_big_tot = df_tot.join(state_to_cdiv,on = 'STATE')"
   ]
  },
  {
   "cell_type": "markdown",
   "metadata": {},
   "source": [
    "Get only koser data"
   ]
  },
  {
   "cell_type": "code",
   "execution_count": 18,
   "metadata": {
    "collapsed": false
   },
   "outputs": [],
   "source": [
    "m = (occ_data_big['cdiv num'] == occ_data_big['cdiv num'])"
   ]
  },
  {
   "cell_type": "code",
   "execution_count": 19,
   "metadata": {
    "collapsed": true
   },
   "outputs": [],
   "source": [
    "occ_data = occ_data_big[m]"
   ]
  },
  {
   "cell_type": "markdown",
   "metadata": {},
   "source": [
    "Fill out truth table"
   ]
  },
  {
   "cell_type": "code",
   "execution_count": 20,
   "metadata": {
    "collapsed": true
   },
   "outputs": [],
   "source": [
    "for i in job.index:\n",
    "    vals = job.loc[i,job.columns[1:]].dropna().astype(int).values\n",
    "    tbl.loc[i,vals] = True"
   ]
  },
  {
   "cell_type": "markdown",
   "metadata": {},
   "source": [
    "Use truth table to fill out a mask based on job code in occ_data"
   ]
  },
  {
   "cell_type": "code",
   "execution_count": 21,
   "metadata": {
    "collapsed": false
   },
   "outputs": [],
   "source": [
    "occ_mask = (occ_data.loc[:,['OCC_CODE']].join(tbl,on='OCC_CODE')).drop('OCC_CODE',axis = 1)"
   ]
  },
  {
   "cell_type": "markdown",
   "metadata": {},
   "source": [
    "Use cb_piv to fill out a dataframe with number of workers in a given census division"
   ]
  },
  {
   "cell_type": "code",
   "execution_count": 22,
   "metadata": {
    "collapsed": true
   },
   "outputs": [],
   "source": [
    "occ_finalwt = (occ_data.loc[:,['cdiv num']].join(cb_piv,on='cdiv num')).drop('cdiv num',axis = 1)"
   ]
  },
  {
   "cell_type": "markdown",
   "metadata": {},
   "source": [
    "Multiply number of works by mask and normalize"
   ]
  },
  {
   "cell_type": "code",
   "execution_count": 23,
   "metadata": {
    "collapsed": true
   },
   "outputs": [],
   "source": [
    "occ_mask_norm = (occ_mask * occ_finalwt).div((occ_mask * occ_finalwt).sum(axis=1),axis=0)"
   ]
  },
  {
   "cell_type": "markdown",
   "metadata": {},
   "source": [
    "Now multiply by the number of workers in the OCC data"
   ]
  },
  {
   "cell_type": "code",
   "execution_count": 24,
   "metadata": {
    "collapsed": true
   },
   "outputs": [],
   "source": [
    "occ_by_pba = occ_mask_norm.mul(occ_data[field],axis=0)"
   ]
  },
  {
   "cell_type": "markdown",
   "metadata": {},
   "source": [
    "Drop any empy rows"
   ]
  },
  {
   "cell_type": "code",
   "execution_count": 25,
   "metadata": {
    "collapsed": true
   },
   "outputs": [],
   "source": [
    "occ_by_pba.dropna(axis=0,how='all',inplace = True)"
   ]
  },
  {
   "cell_type": "markdown",
   "metadata": {},
   "source": [
    "Flatten out the dataframe"
   ]
  },
  {
   "cell_type": "code",
   "execution_count": 26,
   "metadata": {
    "collapsed": true
   },
   "outputs": [],
   "source": [
    "occ_by_pba_flat  = occ_by_pba.unstack().replace(0,np.nan).dropna().reset_index().rename(columns = {'level_0':'pba','index':'occ_id',0:'nwrkrs'})"
   ]
  },
  {
   "cell_type": "markdown",
   "metadata": {},
   "source": [
    "Add state, zip code, and census div to dataframe"
   ]
  },
  {
   "cell_type": "code",
   "execution_count": 27,
   "metadata": {
    "collapsed": false
   },
   "outputs": [],
   "source": [
    "occ = occ_by_pba_flat.join(occ_data.loc[:,['STATE','ZIP CODE','cdiv num']],on='occ_id')"
   ]
  },
  {
   "cell_type": "markdown",
   "metadata": {},
   "source": [
    "Groupby zip and pba to get the number of workers in a given zip code for a given PBA"
   ]
  },
  {
   "cell_type": "code",
   "execution_count": 28,
   "metadata": {
    "collapsed": false
   },
   "outputs": [],
   "source": [
    "occ = occ.groupby(['STATE','ZIP CODE','pba'])['nwrkrs'].sum().reset_index()"
   ]
  },
  {
   "cell_type": "markdown",
   "metadata": {},
   "source": [
    "okay, now we are going to get geographic distribution of all workers in OCC data."
   ]
  },
  {
   "cell_type": "code",
   "execution_count": 29,
   "metadata": {
    "collapsed": true
   },
   "outputs": [],
   "source": [
    "m2 = (occ_data_big_tot['cdiv num'] == occ_data_big_tot['cdiv num'])"
   ]
  },
  {
   "cell_type": "code",
   "execution_count": 30,
   "metadata": {
    "collapsed": false
   },
   "outputs": [],
   "source": [
    "occ_data2 = occ_data_big_tot.loc[m2]"
   ]
  },
  {
   "cell_type": "code",
   "execution_count": 31,
   "metadata": {
    "collapsed": true
   },
   "outputs": [],
   "source": [
    "all_workers = occ_data2.loc[:,['STATE','ZIP CODE',field]]"
   ]
  },
  {
   "cell_type": "code",
   "execution_count": 32,
   "metadata": {
    "collapsed": true
   },
   "outputs": [],
   "source": [
    "all_workers.rename(columns = {field:'nwrkrs'},inplace = True)"
   ]
  },
  {
   "cell_type": "markdown",
   "metadata": {},
   "source": [
    "Assign to PBA 1 (which currently shouldn't be included in the dataset)"
   ]
  },
  {
   "cell_type": "code",
   "execution_count": 33,
   "metadata": {
    "collapsed": true
   },
   "outputs": [],
   "source": [
    "all_workers['pba'] = 1"
   ]
  },
  {
   "cell_type": "code",
   "execution_count": 34,
   "metadata": {
    "collapsed": false
   },
   "outputs": [],
   "source": [
    "all_workers = all_workers[['STATE','ZIP CODE','pba','nwrkrs']]"
   ]
  },
  {
   "cell_type": "markdown",
   "metadata": {},
   "source": [
    "Add this to the occ dataframe"
   ]
  },
  {
   "cell_type": "code",
   "execution_count": 35,
   "metadata": {
    "collapsed": false
   },
   "outputs": [],
   "source": [
    "occ = pd.concat([occ,all_workers],ignore_index=True)"
   ]
  },
  {
   "cell_type": "markdown",
   "metadata": {},
   "source": [
    "Add census division to the dataframe"
   ]
  },
  {
   "cell_type": "code",
   "execution_count": 36,
   "metadata": {
    "collapsed": true
   },
   "outputs": [],
   "source": [
    "occ = occ.join(state_to_cdiv,on='STATE')"
   ]
  },
  {
   "cell_type": "code",
   "execution_count": 37,
   "metadata": {
    "collapsed": false
   },
   "outputs": [],
   "source": [
    "#occ = occ.sort(columns=['cdiv num','pba'])\n",
    "\n",
    "occ = occ.sort_values(['cdiv num','pba'])"
   ]
  },
  {
   "cell_type": "markdown",
   "metadata": {},
   "source": [
    "Get total number of workers for each census div and pba"
   ]
  },
  {
   "cell_type": "code",
   "execution_count": 38,
   "metadata": {
    "collapsed": false
   },
   "outputs": [],
   "source": [
    "occ_tot = occ.groupby(['cdiv num','pba'])[['nwrkrs']].sum()\n",
    "occ_tot.rename(columns = {'nwrkrs':'nwrkrs_tot'}, inplace = True)"
   ]
  },
  {
   "cell_type": "markdown",
   "metadata": {},
   "source": [
    "Add columns to occ dataframe"
   ]
  },
  {
   "cell_type": "code",
   "execution_count": 39,
   "metadata": {
    "collapsed": false
   },
   "outputs": [],
   "source": [
    "occ = occ.join(occ_tot,on =['cdiv num','pba'])"
   ]
  },
  {
   "cell_type": "markdown",
   "metadata": {},
   "source": [
    "Divide the number of workers (nwrkrs) in each zip and pba by the total number of workers in that census divison and pba."
   ]
  },
  {
   "cell_type": "code",
   "execution_count": 40,
   "metadata": {
    "collapsed": true
   },
   "outputs": [],
   "source": [
    "occ['frac'] = occ['nwrkrs']/occ['nwrkrs_tot']"
   ]
  },
  {
   "cell_type": "code",
   "execution_count": 41,
   "metadata": {
    "collapsed": true
   },
   "outputs": [],
   "source": [
    "occ.reset_index(drop = True, inplace = True)"
   ]
  },
  {
   "cell_type": "markdown",
   "metadata": {},
   "source": [
    "Write out our csv file that has the fraction of employees in a given zip and pba relative to the number of workers that census division and pba."
   ]
  },
  {
   "cell_type": "code",
   "execution_count": 42,
   "metadata": {
    "collapsed": false
   },
   "outputs": [],
   "source": [
    "# ------------------------------------------- #\n",
    "occ.to_csv('Datasets/employment_by_zip_and_pba_2012.csv')\n",
    "# ------------------------------------------- #"
   ]
  },
  {
   "cell_type": "code",
   "execution_count": 43,
   "metadata": {
    "collapsed": true
   },
   "outputs": [],
   "source": [
    "# occ[(occ['cdiv num'] == 3) & (occ['pba'] == 4)].frac.sum()"
   ]
  },
  {
   "cell_type": "code",
   "execution_count": 44,
   "metadata": {},
   "outputs": [
    {
     "data": {
      "text/html": [
       "<div>\n",
       "<style scoped>\n",
       "    .dataframe tbody tr th:only-of-type {\n",
       "        vertical-align: middle;\n",
       "    }\n",
       "\n",
       "    .dataframe tbody tr th {\n",
       "        vertical-align: top;\n",
       "    }\n",
       "\n",
       "    .dataframe thead th {\n",
       "        text-align: right;\n",
       "    }\n",
       "</style>\n",
       "<table border=\"1\" class=\"dataframe\">\n",
       "  <thead>\n",
       "    <tr style=\"text-align: right;\">\n",
       "      <th></th>\n",
       "      <th>STATE</th>\n",
       "      <th>ZIP CODE</th>\n",
       "      <th>pba</th>\n",
       "      <th>nwrkrs</th>\n",
       "      <th>cdiv num</th>\n",
       "      <th>nwrkrs_tot</th>\n",
       "      <th>frac</th>\n",
       "    </tr>\n",
       "  </thead>\n",
       "  <tbody>\n",
       "    <tr>\n",
       "      <th>0</th>\n",
       "      <td>MA</td>\n",
       "      <td>1001</td>\n",
       "      <td>1</td>\n",
       "      <td>3049.361702</td>\n",
       "      <td>1</td>\n",
       "      <td>5.570366e+06</td>\n",
       "      <td>0.000547</td>\n",
       "    </tr>\n",
       "    <tr>\n",
       "      <th>1</th>\n",
       "      <td>MA</td>\n",
       "      <td>1002</td>\n",
       "      <td>1</td>\n",
       "      <td>3049.361702</td>\n",
       "      <td>1</td>\n",
       "      <td>5.570366e+06</td>\n",
       "      <td>0.000547</td>\n",
       "    </tr>\n",
       "    <tr>\n",
       "      <th>2</th>\n",
       "      <td>MA</td>\n",
       "      <td>1003</td>\n",
       "      <td>1</td>\n",
       "      <td>3049.361702</td>\n",
       "      <td>1</td>\n",
       "      <td>5.570366e+06</td>\n",
       "      <td>0.000547</td>\n",
       "    </tr>\n",
       "    <tr>\n",
       "      <th>3</th>\n",
       "      <td>MA</td>\n",
       "      <td>1007</td>\n",
       "      <td>1</td>\n",
       "      <td>3049.361702</td>\n",
       "      <td>1</td>\n",
       "      <td>5.570366e+06</td>\n",
       "      <td>0.000547</td>\n",
       "    </tr>\n",
       "    <tr>\n",
       "      <th>4</th>\n",
       "      <td>MA</td>\n",
       "      <td>1008</td>\n",
       "      <td>1</td>\n",
       "      <td>3049.361702</td>\n",
       "      <td>1</td>\n",
       "      <td>5.570366e+06</td>\n",
       "      <td>0.000547</td>\n",
       "    </tr>\n",
       "  </tbody>\n",
       "</table>\n",
       "</div>"
      ],
      "text/plain": [
       "  STATE  ZIP CODE  pba       nwrkrs  cdiv num    nwrkrs_tot      frac\n",
       "0    MA      1001    1  3049.361702         1  5.570366e+06  0.000547\n",
       "1    MA      1002    1  3049.361702         1  5.570366e+06  0.000547\n",
       "2    MA      1003    1  3049.361702         1  5.570366e+06  0.000547\n",
       "3    MA      1007    1  3049.361702         1  5.570366e+06  0.000547\n",
       "4    MA      1008    1  3049.361702         1  5.570366e+06  0.000547"
      ]
     },
     "execution_count": 44,
     "metadata": {},
     "output_type": "execute_result"
    }
   ],
   "source": [
    "occ.head()"
   ]
  },
  {
   "cell_type": "code",
   "execution_count": 45,
   "metadata": {},
   "outputs": [
    {
     "data": {
      "text/plain": [
       "[1, 2, 4, 5, 6, 7, 8, 11, 12, 13, 14, 15, 16, 17, 18, 23, 24, 25, 26, 91]"
      ]
     },
     "execution_count": 45,
     "metadata": {},
     "output_type": "execute_result"
    }
   ],
   "source": [
    "sorted(occ.pba.unique())"
   ]
  }
 ],
 "metadata": {
  "kernelspec": {
   "display_name": "base",
   "language": "python",
   "name": "python3"
  },
  "language_info": {
   "codemirror_mode": {
    "name": "ipython",
    "version": 3
   },
   "file_extension": ".py",
   "mimetype": "text/x-python",
   "name": "python",
   "nbconvert_exporter": "python",
   "pygments_lexer": "ipython3",
   "version": "3.7.4"
  }
 },
 "nbformat": 4,
 "nbformat_minor": 0
}
